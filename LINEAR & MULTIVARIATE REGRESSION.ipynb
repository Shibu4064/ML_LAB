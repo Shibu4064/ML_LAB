{
 "cells": [
  {
   "cell_type": "markdown",
   "id": "850f5b83",
   "metadata": {},
   "source": [
    "# Simple Linear Regression"
   ]
  },
  {
   "cell_type": "code",
   "execution_count": 5,
   "id": "7fec8177",
   "metadata": {},
   "outputs": [
    {
     "data": {
      "text/html": [
       "<div>\n",
       "<style scoped>\n",
       "    .dataframe tbody tr th:only-of-type {\n",
       "        vertical-align: middle;\n",
       "    }\n",
       "\n",
       "    .dataframe tbody tr th {\n",
       "        vertical-align: top;\n",
       "    }\n",
       "\n",
       "    .dataframe thead th {\n",
       "        text-align: right;\n",
       "    }\n",
       "</style>\n",
       "<table border=\"1\" class=\"dataframe\">\n",
       "  <thead>\n",
       "    <tr style=\"text-align: right;\">\n",
       "      <th></th>\n",
       "      <th>sepal_length</th>\n",
       "      <th>sepal_width</th>\n",
       "      <th>petal_length</th>\n",
       "      <th>petal_width</th>\n",
       "      <th>species</th>\n",
       "    </tr>\n",
       "  </thead>\n",
       "  <tbody>\n",
       "    <tr>\n",
       "      <th>0</th>\n",
       "      <td>5.1</td>\n",
       "      <td>3.5</td>\n",
       "      <td>1.4</td>\n",
       "      <td>0.2</td>\n",
       "      <td>setosa</td>\n",
       "    </tr>\n",
       "    <tr>\n",
       "      <th>1</th>\n",
       "      <td>4.9</td>\n",
       "      <td>3.0</td>\n",
       "      <td>1.4</td>\n",
       "      <td>0.2</td>\n",
       "      <td>setosa</td>\n",
       "    </tr>\n",
       "    <tr>\n",
       "      <th>2</th>\n",
       "      <td>4.7</td>\n",
       "      <td>3.2</td>\n",
       "      <td>1.3</td>\n",
       "      <td>0.2</td>\n",
       "      <td>setosa</td>\n",
       "    </tr>\n",
       "    <tr>\n",
       "      <th>3</th>\n",
       "      <td>4.6</td>\n",
       "      <td>3.1</td>\n",
       "      <td>1.5</td>\n",
       "      <td>0.2</td>\n",
       "      <td>setosa</td>\n",
       "    </tr>\n",
       "    <tr>\n",
       "      <th>4</th>\n",
       "      <td>5.0</td>\n",
       "      <td>3.6</td>\n",
       "      <td>1.4</td>\n",
       "      <td>0.2</td>\n",
       "      <td>setosa</td>\n",
       "    </tr>\n",
       "    <tr>\n",
       "      <th>...</th>\n",
       "      <td>...</td>\n",
       "      <td>...</td>\n",
       "      <td>...</td>\n",
       "      <td>...</td>\n",
       "      <td>...</td>\n",
       "    </tr>\n",
       "    <tr>\n",
       "      <th>145</th>\n",
       "      <td>6.7</td>\n",
       "      <td>3.0</td>\n",
       "      <td>5.2</td>\n",
       "      <td>2.3</td>\n",
       "      <td>virginica</td>\n",
       "    </tr>\n",
       "    <tr>\n",
       "      <th>146</th>\n",
       "      <td>6.3</td>\n",
       "      <td>2.5</td>\n",
       "      <td>5.0</td>\n",
       "      <td>1.9</td>\n",
       "      <td>virginica</td>\n",
       "    </tr>\n",
       "    <tr>\n",
       "      <th>147</th>\n",
       "      <td>6.5</td>\n",
       "      <td>3.0</td>\n",
       "      <td>5.2</td>\n",
       "      <td>2.0</td>\n",
       "      <td>virginica</td>\n",
       "    </tr>\n",
       "    <tr>\n",
       "      <th>148</th>\n",
       "      <td>6.2</td>\n",
       "      <td>3.4</td>\n",
       "      <td>5.4</td>\n",
       "      <td>2.3</td>\n",
       "      <td>virginica</td>\n",
       "    </tr>\n",
       "    <tr>\n",
       "      <th>149</th>\n",
       "      <td>5.9</td>\n",
       "      <td>3.0</td>\n",
       "      <td>5.1</td>\n",
       "      <td>1.8</td>\n",
       "      <td>virginica</td>\n",
       "    </tr>\n",
       "  </tbody>\n",
       "</table>\n",
       "<p>150 rows × 5 columns</p>\n",
       "</div>"
      ],
      "text/plain": [
       "     sepal_length  sepal_width  petal_length  petal_width    species\n",
       "0             5.1          3.5           1.4          0.2     setosa\n",
       "1             4.9          3.0           1.4          0.2     setosa\n",
       "2             4.7          3.2           1.3          0.2     setosa\n",
       "3             4.6          3.1           1.5          0.2     setosa\n",
       "4             5.0          3.6           1.4          0.2     setosa\n",
       "..            ...          ...           ...          ...        ...\n",
       "145           6.7          3.0           5.2          2.3  virginica\n",
       "146           6.3          2.5           5.0          1.9  virginica\n",
       "147           6.5          3.0           5.2          2.0  virginica\n",
       "148           6.2          3.4           5.4          2.3  virginica\n",
       "149           5.9          3.0           5.1          1.8  virginica\n",
       "\n",
       "[150 rows x 5 columns]"
      ]
     },
     "execution_count": 5,
     "metadata": {},
     "output_type": "execute_result"
    }
   ],
   "source": [
    "import seaborn as sns\n",
    "iris=sns.load_dataset('iris')\n",
    "iris"
   ]
  },
  {
   "cell_type": "code",
   "execution_count": 6,
   "id": "1f78c957",
   "metadata": {},
   "outputs": [
    {
     "data": {
      "text/html": [
       "<div>\n",
       "<style scoped>\n",
       "    .dataframe tbody tr th:only-of-type {\n",
       "        vertical-align: middle;\n",
       "    }\n",
       "\n",
       "    .dataframe tbody tr th {\n",
       "        vertical-align: top;\n",
       "    }\n",
       "\n",
       "    .dataframe thead th {\n",
       "        text-align: right;\n",
       "    }\n",
       "</style>\n",
       "<table border=\"1\" class=\"dataframe\">\n",
       "  <thead>\n",
       "    <tr style=\"text-align: right;\">\n",
       "      <th></th>\n",
       "      <th>petal_length</th>\n",
       "      <th>petal_width</th>\n",
       "    </tr>\n",
       "  </thead>\n",
       "  <tbody>\n",
       "    <tr>\n",
       "      <th>0</th>\n",
       "      <td>1.4</td>\n",
       "      <td>0.2</td>\n",
       "    </tr>\n",
       "    <tr>\n",
       "      <th>1</th>\n",
       "      <td>1.4</td>\n",
       "      <td>0.2</td>\n",
       "    </tr>\n",
       "    <tr>\n",
       "      <th>2</th>\n",
       "      <td>1.3</td>\n",
       "      <td>0.2</td>\n",
       "    </tr>\n",
       "    <tr>\n",
       "      <th>3</th>\n",
       "      <td>1.5</td>\n",
       "      <td>0.2</td>\n",
       "    </tr>\n",
       "    <tr>\n",
       "      <th>4</th>\n",
       "      <td>1.4</td>\n",
       "      <td>0.2</td>\n",
       "    </tr>\n",
       "    <tr>\n",
       "      <th>...</th>\n",
       "      <td>...</td>\n",
       "      <td>...</td>\n",
       "    </tr>\n",
       "    <tr>\n",
       "      <th>145</th>\n",
       "      <td>5.2</td>\n",
       "      <td>2.3</td>\n",
       "    </tr>\n",
       "    <tr>\n",
       "      <th>146</th>\n",
       "      <td>5.0</td>\n",
       "      <td>1.9</td>\n",
       "    </tr>\n",
       "    <tr>\n",
       "      <th>147</th>\n",
       "      <td>5.2</td>\n",
       "      <td>2.0</td>\n",
       "    </tr>\n",
       "    <tr>\n",
       "      <th>148</th>\n",
       "      <td>5.4</td>\n",
       "      <td>2.3</td>\n",
       "    </tr>\n",
       "    <tr>\n",
       "      <th>149</th>\n",
       "      <td>5.1</td>\n",
       "      <td>1.8</td>\n",
       "    </tr>\n",
       "  </tbody>\n",
       "</table>\n",
       "<p>150 rows × 2 columns</p>\n",
       "</div>"
      ],
      "text/plain": [
       "     petal_length  petal_width\n",
       "0             1.4          0.2\n",
       "1             1.4          0.2\n",
       "2             1.3          0.2\n",
       "3             1.5          0.2\n",
       "4             1.4          0.2\n",
       "..            ...          ...\n",
       "145           5.2          2.3\n",
       "146           5.0          1.9\n",
       "147           5.2          2.0\n",
       "148           5.4          2.3\n",
       "149           5.1          1.8\n",
       "\n",
       "[150 rows x 2 columns]"
      ]
     },
     "execution_count": 6,
     "metadata": {},
     "output_type": "execute_result"
    }
   ],
   "source": [
    "iris=iris[['petal_length','petal_width']]\n",
    "iris"
   ]
  },
  {
   "cell_type": "code",
   "execution_count": 7,
   "id": "4d940a57",
   "metadata": {},
   "outputs": [],
   "source": [
    "X=iris['petal_length']\n",
    "y=iris['petal_width']"
   ]
  },
  {
   "cell_type": "code",
   "execution_count": 8,
   "id": "5db75d0b",
   "metadata": {},
   "outputs": [
    {
     "data": {
      "text/plain": [
       "Text(0, 0.5, 'petal width')"
      ]
     },
     "execution_count": 8,
     "metadata": {},
     "output_type": "execute_result"
    },
    {
     "data": {
      "image/png": "[encoded data removed]",
      "text/plain": [
       "<Figure size 640x480 with 1 Axes>"
      ]
     },
     "metadata": {},
     "output_type": "display_data"
    }
   ],
   "source": [
    "import matplotlib.pyplot as plt\n",
    "plt.scatter(X,y)\n",
    "plt.xlabel(\"petal length\")\n",
    "plt.ylabel(\"petal width\")"
   ]
  },
  {
   "cell_type": "code",
   "execution_count": 9,
   "id": "6ca7a40f",
   "metadata": {},
   "outputs": [],
   "source": [
    "from sklearn.model_selection import train_test_split\n",
    "X_train, X_test, y_train, y_test=train_test_split(X,y,test_size=0.4,random_state=23)"
   ]
  },
  {
   "cell_type": "code",
   "execution_count": 10,
   "id": "d8482e66",
   "metadata": {},
   "outputs": [
    {
     "data": {
      "text/plain": [
       "77     5.0\n",
       "29     1.6\n",
       "92     4.0\n",
       "23     1.7\n",
       "128    5.6\n",
       "      ... \n",
       "39     1.5\n",
       "91     4.6\n",
       "31     1.5\n",
       "40     1.3\n",
       "83     5.1\n",
       "Name: petal_length, Length: 90, dtype: float64"
      ]
     },
     "execution_count": 10,
     "metadata": {},
     "output_type": "execute_result"
    }
   ],
   "source": [
    "X_train"
   ]
  },
  {
   "cell_type": "code",
   "execution_count": 11,
   "id": "836a14d3",
   "metadata": {},
   "outputs": [
    {
     "data": {
      "text/plain": [
       "array([5. , 1.6, 4. , 1.7, 5.6, 4. , 4.8, 5.6, 5.1, 4.9, 1.4, 1.6, 5.6,\n",
       "       1.4, 1.6, 5.5, 5.1, 4. , 1.4, 4.1, 5.3, 4.5, 5.8, 6.6, 4.3, 1.3,\n",
       "       4. , 4.9, 4.9, 4. , 1.5, 4.5, 4.5, 3.9, 5. , 4.8, 3.8, 5.1, 6.3,\n",
       "       6.1, 1.2, 5.7, 3. , 1.5, 5.9, 4.8, 1.4, 4.5, 4.2, 5.2, 1.3, 1. ,\n",
       "       3.5, 1.1, 4.7, 4.2, 1.2, 5.8, 4.3, 4.5, 1.6, 6.9, 4.6, 5.1, 5.6,\n",
       "       4.7, 1.5, 1.6, 5.5, 5.8, 4.4, 1.3, 5.2, 3.3, 5.7, 3.5, 1.3, 1.5,\n",
       "       1.5, 5.1, 1.4, 1.4, 4.9, 1.4, 4.4, 1.5, 4.6, 1.5, 1.3, 5.1])"
      ]
     },
     "execution_count": 11,
     "metadata": {},
     "output_type": "execute_result"
    }
   ],
   "source": [
    "import numpy as np\n",
    "X_train=np.array(X_train).reshape(-1,1)\n",
    "X_train.flatten()"
   ]
  },
  {
   "cell_type": "code",
   "execution_count": 12,
   "id": "c6e992d6",
   "metadata": {},
   "outputs": [
    {
     "data": {
      "text/plain": [
       "array([5.4, 6. , 4.1, 1.5, 5. , 4.9, 1.7, 5.5, 1.7, 3.6, 4.7, 1.6, 5.9,\n",
       "       1.5, 1.5, 5.1, 4.5, 4.7, 6.1, 1.4, 5.3, 1.4, 1.6, 1.3, 5.6, 1.4,\n",
       "       1.9, 4.8, 4.4, 3.9, 1.5, 3.9, 1.3, 6.7, 1.5, 1.7, 4.6, 3.3, 4.2,\n",
       "       6. , 5.7, 1.9, 3.7, 1.4, 4.4, 5. , 4.5, 6.4, 1.5, 4.1, 6.1, 5.4,\n",
       "       1.4, 5.6, 4.5, 4.7, 6.7, 4.2, 1.4, 5.1])"
      ]
     },
     "execution_count": 12,
     "metadata": {},
     "output_type": "execute_result"
    }
   ],
   "source": [
    "X_test=np.array(X_test).reshape(-1,1)\n",
    "X_test.flatten()"
   ]
  },
  {
   "cell_type": "code",
   "execution_count": 13,
   "id": "228b2761",
   "metadata": {},
   "outputs": [],
   "source": [
    "from sklearn.linear_model import LinearRegression\n",
    "lr=LinearRegression()"
   ]
  },
  {
   "cell_type": "code",
   "execution_count": 14,
   "id": "79af44e1",
   "metadata": {},
   "outputs": [
    {
     "data": {
      "text/plain": [
       "LinearRegression()"
      ]
     },
     "execution_count": 14,
     "metadata": {},
     "output_type": "execute_result"
    }
   ],
   "source": [
    "lr.fit(X_train,y_train)"
   ]
  },
  {
   "cell_type": "code",
   "execution_count": 15,
   "id": "24931edb",
   "metadata": {},
   "outputs": [
    {
     "data": {
      "text/plain": [
       "-0.35113274221437485"
      ]
     },
     "execution_count": 15,
     "metadata": {},
     "output_type": "execute_result"
    }
   ],
   "source": [
    "c=lr.intercept_\n",
    "c"
   ]
  },
  {
   "cell_type": "code",
   "execution_count": 16,
   "id": "eacfd8f9",
   "metadata": {},
   "outputs": [
    {
     "data": {
      "text/plain": [
       "array([0.41684538])"
      ]
     },
     "execution_count": 16,
     "metadata": {},
     "output_type": "execute_result"
    }
   ],
   "source": [
    "m=lr.coef_\n",
    "m"
   ]
  },
  {
   "cell_type": "code",
   "execution_count": 17,
   "id": "4bfde7c3",
   "metadata": {},
   "outputs": [
    {
     "data": {
      "text/plain": [
       "array([1.73309416, 0.31581987, 1.31624878, 0.3575044 , 1.98320139,\n",
       "       1.31624878, 1.64972508, 1.98320139, 1.7747787 , 1.69140962,\n",
       "       0.23245079, 0.31581987, 1.98320139, 0.23245079, 0.31581987,\n",
       "       1.94151685, 1.7747787 , 1.31624878, 0.23245079, 1.35793332,\n",
       "       1.85814777, 1.52467147, 2.06657046, 2.40004677, 1.44130239,\n",
       "       0.19076625, 1.31624878, 1.69140962, 1.69140962, 1.31624878,\n",
       "       0.27413533, 1.52467147, 1.52467147, 1.27456424, 1.73309416,\n",
       "       1.64972508, 1.2328797 , 1.7747787 , 2.27499315, 2.19162408,\n",
       "       0.14908171, 2.02488593, 0.8994034 , 0.27413533, 2.108255  ,\n",
       "       1.64972508, 0.23245079, 1.52467147, 1.39961786, 1.81646324,\n",
       "       0.19076625, 0.06571264, 1.10782609, 0.10739718, 1.60804055,\n",
       "       1.39961786, 0.14908171, 2.06657046, 1.44130239, 1.52467147,\n",
       "       0.31581987, 2.52510038, 1.56635601, 1.7747787 , 1.98320139,\n",
       "       1.60804055, 0.27413533, 0.31581987, 1.94151685, 2.06657046,\n",
       "       1.48298693, 0.19076625, 1.81646324, 1.02445701, 2.02488593,\n",
       "       1.10782609, 0.19076625, 0.27413533, 0.27413533, 1.7747787 ,\n",
       "       0.23245079, 0.23245079, 1.69140962, 0.23245079, 1.48298693,\n",
       "       0.27413533, 1.56635601, 0.27413533, 0.19076625, 1.7747787 ])"
      ]
     },
     "execution_count": 17,
     "metadata": {},
     "output_type": "execute_result"
    }
   ],
   "source": [
    "y_pred=lr.predict(X_train)\n",
    "y_pred"
   ]
  },
  {
   "cell_type": "code",
   "execution_count": 18,
   "id": "5f43292c",
   "metadata": {},
   "outputs": [
    {
     "data": {
      "text/plain": [
       "Text(0, 0.5, 'petal width')"
      ]
     },
     "execution_count": 18,
     "metadata": {},
     "output_type": "execute_result"
    },
    {
     "data": {
      "image/png": "[encoded data removed]",
      "text/plain": [
       "<Figure size 640x480 with 1 Axes>"
      ]
     },
     "metadata": {},
     "output_type": "display_data"
    }
   ],
   "source": [
    "plt.scatter(X_train,y_train)\n",
    "plt.plot(X_train,y_pred,color='red')\n",
    "plt.xlabel(\"petal length\")\n",
    "plt.ylabel(\"petal width\")"
   ]
  },
  {
   "cell_type": "code",
   "execution_count": 34,
   "id": "1ab88296",
   "metadata": {},
   "outputs": [
    {
     "data": {
      "text/plain": [
       "0.791151983192236"
      ]
     },
     "execution_count": 34,
     "metadata": {},
     "output_type": "execute_result"
    }
   ],
   "source": [
    "lr.score(X_test,y_test)"
   ]
  },
  {
   "cell_type": "markdown",
   "id": "5bb0ffa6",
   "metadata": {},
   "source": [
    "# Multivariate Linear Regression"
   ]
  },
  {
   "cell_type": "code",
   "execution_count": 20,
   "id": "442b6075",
   "metadata": {},
   "outputs": [
    {
     "data": {
      "text/html": [
       "<div>\n",
       "<style scoped>\n",
       "    .dataframe tbody tr th:only-of-type {\n",
       "        vertical-align: middle;\n",
       "    }\n",
       "\n",
       "    .dataframe tbody tr th {\n",
       "        vertical-align: top;\n",
       "    }\n",
       "\n",
       "    .dataframe thead th {\n",
       "        text-align: right;\n",
       "    }\n",
       "</style>\n",
       "<table border=\"1\" class=\"dataframe\">\n",
       "  <thead>\n",
       "    <tr style=\"text-align: right;\">\n",
       "      <th></th>\n",
       "      <th>age</th>\n",
       "      <th>sex</th>\n",
       "      <th>bmi</th>\n",
       "      <th>children</th>\n",
       "      <th>smoker</th>\n",
       "      <th>region</th>\n",
       "      <th>expenses</th>\n",
       "    </tr>\n",
       "  </thead>\n",
       "  <tbody>\n",
       "    <tr>\n",
       "      <th>0</th>\n",
       "      <td>19</td>\n",
       "      <td>female</td>\n",
       "      <td>27.9</td>\n",
       "      <td>0</td>\n",
       "      <td>yes</td>\n",
       "      <td>southwest</td>\n",
       "      <td>16884.92</td>\n",
       "    </tr>\n",
       "    <tr>\n",
       "      <th>1</th>\n",
       "      <td>18</td>\n",
       "      <td>male</td>\n",
       "      <td>33.8</td>\n",
       "      <td>1</td>\n",
       "      <td>no</td>\n",
       "      <td>southeast</td>\n",
       "      <td>1725.55</td>\n",
       "    </tr>\n",
       "    <tr>\n",
       "      <th>2</th>\n",
       "      <td>28</td>\n",
       "      <td>male</td>\n",
       "      <td>33.0</td>\n",
       "      <td>3</td>\n",
       "      <td>no</td>\n",
       "      <td>southeast</td>\n",
       "      <td>4449.46</td>\n",
       "    </tr>\n",
       "    <tr>\n",
       "      <th>3</th>\n",
       "      <td>33</td>\n",
       "      <td>male</td>\n",
       "      <td>22.7</td>\n",
       "      <td>0</td>\n",
       "      <td>no</td>\n",
       "      <td>northwest</td>\n",
       "      <td>21984.47</td>\n",
       "    </tr>\n",
       "    <tr>\n",
       "      <th>4</th>\n",
       "      <td>32</td>\n",
       "      <td>male</td>\n",
       "      <td>28.9</td>\n",
       "      <td>0</td>\n",
       "      <td>no</td>\n",
       "      <td>northwest</td>\n",
       "      <td>3866.86</td>\n",
       "    </tr>\n",
       "    <tr>\n",
       "      <th>...</th>\n",
       "      <td>...</td>\n",
       "      <td>...</td>\n",
       "      <td>...</td>\n",
       "      <td>...</td>\n",
       "      <td>...</td>\n",
       "      <td>...</td>\n",
       "      <td>...</td>\n",
       "    </tr>\n",
       "    <tr>\n",
       "      <th>1333</th>\n",
       "      <td>50</td>\n",
       "      <td>male</td>\n",
       "      <td>31.0</td>\n",
       "      <td>3</td>\n",
       "      <td>no</td>\n",
       "      <td>northwest</td>\n",
       "      <td>10600.55</td>\n",
       "    </tr>\n",
       "    <tr>\n",
       "      <th>1334</th>\n",
       "      <td>18</td>\n",
       "      <td>female</td>\n",
       "      <td>31.9</td>\n",
       "      <td>0</td>\n",
       "      <td>no</td>\n",
       "      <td>northeast</td>\n",
       "      <td>2205.98</td>\n",
       "    </tr>\n",
       "    <tr>\n",
       "      <th>1335</th>\n",
       "      <td>18</td>\n",
       "      <td>female</td>\n",
       "      <td>36.9</td>\n",
       "      <td>0</td>\n",
       "      <td>no</td>\n",
       "      <td>southeast</td>\n",
       "      <td>1629.83</td>\n",
       "    </tr>\n",
       "    <tr>\n",
       "      <th>1336</th>\n",
       "      <td>21</td>\n",
       "      <td>female</td>\n",
       "      <td>25.8</td>\n",
       "      <td>0</td>\n",
       "      <td>no</td>\n",
       "      <td>southwest</td>\n",
       "      <td>2007.95</td>\n",
       "    </tr>\n",
       "    <tr>\n",
       "      <th>1337</th>\n",
       "      <td>61</td>\n",
       "      <td>female</td>\n",
       "      <td>29.1</td>\n",
       "      <td>0</td>\n",
       "      <td>yes</td>\n",
       "      <td>northwest</td>\n",
       "      <td>29141.36</td>\n",
       "    </tr>\n",
       "  </tbody>\n",
       "</table>\n",
       "<p>1338 rows × 7 columns</p>\n",
       "</div>"
      ],
      "text/plain": [
       "      age     sex   bmi  children smoker     region  expenses\n",
       "0      19  female  27.9         0    yes  southwest  16884.92\n",
       "1      18    male  33.8         1     no  southeast   1725.55\n",
       "2      28    male  33.0         3     no  southeast   4449.46\n",
       "3      33    male  22.7         0     no  northwest  21984.47\n",
       "4      32    male  28.9         0     no  northwest   3866.86\n",
       "...   ...     ...   ...       ...    ...        ...       ...\n",
       "1333   50    male  31.0         3     no  northwest  10600.55\n",
       "1334   18  female  31.9         0     no  northeast   2205.98\n",
       "1335   18  female  36.9         0     no  southeast   1629.83\n",
       "1336   21  female  25.8         0     no  southwest   2007.95\n",
       "1337   61  female  29.1         0    yes  northwest  29141.36\n",
       "\n",
       "[1338 rows x 7 columns]"
      ]
     },
     "execution_count": 20,
     "metadata": {},
     "output_type": "execute_result"
    }
   ],
   "source": [
    "import pandas as pd\n",
    "df=pd.read_csv('insurance.csv')\n",
    "df"
   ]
  },
  {
   "cell_type": "markdown",
   "id": "c7389e0d",
   "metadata": {},
   "source": [
    "# converting the categorical variables into numerical using astype and cat.codes attributes"
   ]
  },
  {
   "cell_type": "code",
   "execution_count": 21,
   "id": "f18f77f7",
   "metadata": {},
   "outputs": [
    {
     "data": {
      "text/html": [
       "<div>\n",
       "<style scoped>\n",
       "    .dataframe tbody tr th:only-of-type {\n",
       "        vertical-align: middle;\n",
       "    }\n",
       "\n",
       "    .dataframe tbody tr th {\n",
       "        vertical-align: top;\n",
       "    }\n",
       "\n",
       "    .dataframe thead th {\n",
       "        text-align: right;\n",
       "    }\n",
       "</style>\n",
       "<table border=\"1\" class=\"dataframe\">\n",
       "  <thead>\n",
       "    <tr style=\"text-align: right;\">\n",
       "      <th></th>\n",
       "      <th>age</th>\n",
       "      <th>sex</th>\n",
       "      <th>bmi</th>\n",
       "      <th>children</th>\n",
       "      <th>smoker</th>\n",
       "      <th>region</th>\n",
       "      <th>expenses</th>\n",
       "    </tr>\n",
       "  </thead>\n",
       "  <tbody>\n",
       "    <tr>\n",
       "      <th>0</th>\n",
       "      <td>19</td>\n",
       "      <td>0</td>\n",
       "      <td>27.9</td>\n",
       "      <td>0</td>\n",
       "      <td>1</td>\n",
       "      <td>3</td>\n",
       "      <td>16884.92</td>\n",
       "    </tr>\n",
       "    <tr>\n",
       "      <th>1</th>\n",
       "      <td>18</td>\n",
       "      <td>1</td>\n",
       "      <td>33.8</td>\n",
       "      <td>1</td>\n",
       "      <td>0</td>\n",
       "      <td>2</td>\n",
       "      <td>1725.55</td>\n",
       "    </tr>\n",
       "    <tr>\n",
       "      <th>2</th>\n",
       "      <td>28</td>\n",
       "      <td>1</td>\n",
       "      <td>33.0</td>\n",
       "      <td>3</td>\n",
       "      <td>0</td>\n",
       "      <td>2</td>\n",
       "      <td>4449.46</td>\n",
       "    </tr>\n",
       "    <tr>\n",
       "      <th>3</th>\n",
       "      <td>33</td>\n",
       "      <td>1</td>\n",
       "      <td>22.7</td>\n",
       "      <td>0</td>\n",
       "      <td>0</td>\n",
       "      <td>1</td>\n",
       "      <td>21984.47</td>\n",
       "    </tr>\n",
       "    <tr>\n",
       "      <th>4</th>\n",
       "      <td>32</td>\n",
       "      <td>1</td>\n",
       "      <td>28.9</td>\n",
       "      <td>0</td>\n",
       "      <td>0</td>\n",
       "      <td>1</td>\n",
       "      <td>3866.86</td>\n",
       "    </tr>\n",
       "    <tr>\n",
       "      <th>...</th>\n",
       "      <td>...</td>\n",
       "      <td>...</td>\n",
       "      <td>...</td>\n",
       "      <td>...</td>\n",
       "      <td>...</td>\n",
       "      <td>...</td>\n",
       "      <td>...</td>\n",
       "    </tr>\n",
       "    <tr>\n",
       "      <th>1333</th>\n",
       "      <td>50</td>\n",
       "      <td>1</td>\n",
       "      <td>31.0</td>\n",
       "      <td>3</td>\n",
       "      <td>0</td>\n",
       "      <td>1</td>\n",
       "      <td>10600.55</td>\n",
       "    </tr>\n",
       "    <tr>\n",
       "      <th>1334</th>\n",
       "      <td>18</td>\n",
       "      <td>0</td>\n",
       "      <td>31.9</td>\n",
       "      <td>0</td>\n",
       "      <td>0</td>\n",
       "      <td>0</td>\n",
       "      <td>2205.98</td>\n",
       "    </tr>\n",
       "    <tr>\n",
       "      <th>1335</th>\n",
       "      <td>18</td>\n",
       "      <td>0</td>\n",
       "      <td>36.9</td>\n",
       "      <td>0</td>\n",
       "      <td>0</td>\n",
       "      <td>2</td>\n",
       "      <td>1629.83</td>\n",
       "    </tr>\n",
       "    <tr>\n",
       "      <th>1336</th>\n",
       "      <td>21</td>\n",
       "      <td>0</td>\n",
       "      <td>25.8</td>\n",
       "      <td>0</td>\n",
       "      <td>0</td>\n",
       "      <td>3</td>\n",
       "      <td>2007.95</td>\n",
       "    </tr>\n",
       "    <tr>\n",
       "      <th>1337</th>\n",
       "      <td>61</td>\n",
       "      <td>0</td>\n",
       "      <td>29.1</td>\n",
       "      <td>0</td>\n",
       "      <td>1</td>\n",
       "      <td>1</td>\n",
       "      <td>29141.36</td>\n",
       "    </tr>\n",
       "  </tbody>\n",
       "</table>\n",
       "<p>1338 rows × 7 columns</p>\n",
       "</div>"
      ],
      "text/plain": [
       "      age  sex   bmi  children  smoker  region  expenses\n",
       "0      19    0  27.9         0       1       3  16884.92\n",
       "1      18    1  33.8         1       0       2   1725.55\n",
       "2      28    1  33.0         3       0       2   4449.46\n",
       "3      33    1  22.7         0       0       1  21984.47\n",
       "4      32    1  28.9         0       0       1   3866.86\n",
       "...   ...  ...   ...       ...     ...     ...       ...\n",
       "1333   50    1  31.0         3       0       1  10600.55\n",
       "1334   18    0  31.9         0       0       0   2205.98\n",
       "1335   18    0  36.9         0       0       2   1629.83\n",
       "1336   21    0  25.8         0       0       3   2007.95\n",
       "1337   61    0  29.1         0       1       1  29141.36\n",
       "\n",
       "[1338 rows x 7 columns]"
      ]
     },
     "execution_count": 21,
     "metadata": {},
     "output_type": "execute_result"
    }
   ],
   "source": [
    "df['sex']=df['sex'].astype('category')\n",
    "df['sex']=df['sex'].cat.codes\n",
    "df['smoker']=df['smoker'].astype('category')\n",
    "df['smoker']=df['smoker'].cat.codes\n",
    "df['region']=df['region'].astype('category')\n",
    "df['region']=df['region'].cat.codes\n",
    "df"
   ]
  },
  {
   "cell_type": "markdown",
   "id": "2293f703",
   "metadata": {},
   "source": [
    "# checking for any null values"
   ]
  },
  {
   "cell_type": "code",
   "execution_count": 22,
   "id": "2b78e6ca",
   "metadata": {},
   "outputs": [
    {
     "data": {
      "text/plain": [
       "age         0\n",
       "sex         0\n",
       "bmi         0\n",
       "children    0\n",
       "smoker      0\n",
       "region      0\n",
       "expenses    0\n",
       "dtype: int64"
      ]
     },
     "execution_count": 22,
     "metadata": {},
     "output_type": "execute_result"
    }
   ],
   "source": [
    "df.isnull().sum()"
   ]
  },
  {
   "cell_type": "code",
   "execution_count": 23,
   "id": "c0df1a45",
   "metadata": {},
   "outputs": [
    {
     "data": {
      "text/html": [
       "<div>\n",
       "<style scoped>\n",
       "    .dataframe tbody tr th:only-of-type {\n",
       "        vertical-align: middle;\n",
       "    }\n",
       "\n",
       "    .dataframe tbody tr th {\n",
       "        vertical-align: top;\n",
       "    }\n",
       "\n",
       "    .dataframe thead th {\n",
       "        text-align: right;\n",
       "    }\n",
       "</style>\n",
       "<table border=\"1\" class=\"dataframe\">\n",
       "  <thead>\n",
       "    <tr style=\"text-align: right;\">\n",
       "      <th></th>\n",
       "      <th>age</th>\n",
       "      <th>sex</th>\n",
       "      <th>bmi</th>\n",
       "      <th>children</th>\n",
       "      <th>smoker</th>\n",
       "      <th>region</th>\n",
       "    </tr>\n",
       "  </thead>\n",
       "  <tbody>\n",
       "    <tr>\n",
       "      <th>0</th>\n",
       "      <td>19</td>\n",
       "      <td>0</td>\n",
       "      <td>27.9</td>\n",
       "      <td>0</td>\n",
       "      <td>1</td>\n",
       "      <td>3</td>\n",
       "    </tr>\n",
       "    <tr>\n",
       "      <th>1</th>\n",
       "      <td>18</td>\n",
       "      <td>1</td>\n",
       "      <td>33.8</td>\n",
       "      <td>1</td>\n",
       "      <td>0</td>\n",
       "      <td>2</td>\n",
       "    </tr>\n",
       "    <tr>\n",
       "      <th>2</th>\n",
       "      <td>28</td>\n",
       "      <td>1</td>\n",
       "      <td>33.0</td>\n",
       "      <td>3</td>\n",
       "      <td>0</td>\n",
       "      <td>2</td>\n",
       "    </tr>\n",
       "    <tr>\n",
       "      <th>3</th>\n",
       "      <td>33</td>\n",
       "      <td>1</td>\n",
       "      <td>22.7</td>\n",
       "      <td>0</td>\n",
       "      <td>0</td>\n",
       "      <td>1</td>\n",
       "    </tr>\n",
       "    <tr>\n",
       "      <th>4</th>\n",
       "      <td>32</td>\n",
       "      <td>1</td>\n",
       "      <td>28.9</td>\n",
       "      <td>0</td>\n",
       "      <td>0</td>\n",
       "      <td>1</td>\n",
       "    </tr>\n",
       "    <tr>\n",
       "      <th>...</th>\n",
       "      <td>...</td>\n",
       "      <td>...</td>\n",
       "      <td>...</td>\n",
       "      <td>...</td>\n",
       "      <td>...</td>\n",
       "      <td>...</td>\n",
       "    </tr>\n",
       "    <tr>\n",
       "      <th>1333</th>\n",
       "      <td>50</td>\n",
       "      <td>1</td>\n",
       "      <td>31.0</td>\n",
       "      <td>3</td>\n",
       "      <td>0</td>\n",
       "      <td>1</td>\n",
       "    </tr>\n",
       "    <tr>\n",
       "      <th>1334</th>\n",
       "      <td>18</td>\n",
       "      <td>0</td>\n",
       "      <td>31.9</td>\n",
       "      <td>0</td>\n",
       "      <td>0</td>\n",
       "      <td>0</td>\n",
       "    </tr>\n",
       "    <tr>\n",
       "      <th>1335</th>\n",
       "      <td>18</td>\n",
       "      <td>0</td>\n",
       "      <td>36.9</td>\n",
       "      <td>0</td>\n",
       "      <td>0</td>\n",
       "      <td>2</td>\n",
       "    </tr>\n",
       "    <tr>\n",
       "      <th>1336</th>\n",
       "      <td>21</td>\n",
       "      <td>0</td>\n",
       "      <td>25.8</td>\n",
       "      <td>0</td>\n",
       "      <td>0</td>\n",
       "      <td>3</td>\n",
       "    </tr>\n",
       "    <tr>\n",
       "      <th>1337</th>\n",
       "      <td>61</td>\n",
       "      <td>0</td>\n",
       "      <td>29.1</td>\n",
       "      <td>0</td>\n",
       "      <td>1</td>\n",
       "      <td>1</td>\n",
       "    </tr>\n",
       "  </tbody>\n",
       "</table>\n",
       "<p>1338 rows × 6 columns</p>\n",
       "</div>"
      ],
      "text/plain": [
       "      age  sex   bmi  children  smoker  region\n",
       "0      19    0  27.9         0       1       3\n",
       "1      18    1  33.8         1       0       2\n",
       "2      28    1  33.0         3       0       2\n",
       "3      33    1  22.7         0       0       1\n",
       "4      32    1  28.9         0       0       1\n",
       "...   ...  ...   ...       ...     ...     ...\n",
       "1333   50    1  31.0         3       0       1\n",
       "1334   18    0  31.9         0       0       0\n",
       "1335   18    0  36.9         0       0       2\n",
       "1336   21    0  25.8         0       0       3\n",
       "1337   61    0  29.1         0       1       1\n",
       "\n",
       "[1338 rows x 6 columns]"
      ]
     },
     "execution_count": 23,
     "metadata": {},
     "output_type": "execute_result"
    }
   ],
   "source": [
    "X=df.drop(columns='expenses')\n",
    "X"
   ]
  },
  {
   "cell_type": "code",
   "execution_count": 24,
   "id": "8c0516ea",
   "metadata": {},
   "outputs": [],
   "source": [
    "y=df['expenses']"
   ]
  },
  {
   "cell_type": "code",
   "execution_count": 25,
   "id": "c42254d6",
   "metadata": {},
   "outputs": [],
   "source": [
    "from sklearn.model_selection import train_test_split\n",
    "X_train, X_test, y_train, y_test= train_test_split(X,y, test_size=0.3, random_state=0)"
   ]
  },
  {
   "cell_type": "code",
   "execution_count": 26,
   "id": "0607ce9d",
   "metadata": {},
   "outputs": [],
   "source": [
    "from sklearn.linear_model import LinearRegression\n",
    "lr=LinearRegression()"
   ]
  },
  {
   "cell_type": "code",
   "execution_count": 27,
   "id": "c0998234",
   "metadata": {},
   "outputs": [
    {
     "data": {
      "text/plain": [
       "LinearRegression()"
      ]
     },
     "execution_count": 27,
     "metadata": {},
     "output_type": "execute_result"
    }
   ],
   "source": [
    "lr.fit(X_train,y_train)"
   ]
  },
  {
   "cell_type": "code",
   "execution_count": 28,
   "id": "21be2bad",
   "metadata": {},
   "outputs": [
    {
     "data": {
      "text/plain": [
       "-11827.690243440857"
      ]
     },
     "execution_count": 28,
     "metadata": {},
     "output_type": "execute_result"
    }
   ],
   "source": [
    "c=lr.intercept_\n",
    "c"
   ]
  },
  {
   "cell_type": "code",
   "execution_count": 29,
   "id": "cac0b88f",
   "metadata": {},
   "outputs": [
    {
     "data": {
      "text/plain": [
       "array([  256.54688301,   -49.5556959 ,   329.03829593,   479.33098055,\n",
       "       23399.22241438,  -276.24306229])"
      ]
     },
     "execution_count": 29,
     "metadata": {},
     "output_type": "execute_result"
    }
   ],
   "source": [
    "m=lr.coef_\n",
    "m"
   ]
  },
  {
   "cell_type": "code",
   "execution_count": 30,
   "id": "81924576",
   "metadata": {},
   "outputs": [
    {
     "data": {
      "text/plain": [
       "array([ 2069.03359585,  8141.36511348, 18755.9087006 ,  7870.74055918,\n",
       "        6319.77323677,  2023.31256548, 26863.42450343, 14926.51215619,\n",
       "       10495.85929889, 16242.86056466, 11725.99370507, 11281.93339827,\n",
       "       39310.00037015,  5826.58193988, 12319.08622599,  3157.93965299,\n",
       "       15407.40958383,  4638.61198466,  5019.75698033,  6017.49314695,\n",
       "       15364.9402173 ,  8973.68891998,  8767.32720772, 34224.46402602,\n",
       "        6693.75646855, 26942.08473102, 27280.87272357, 15486.58742309,\n",
       "        8811.58410991, 34400.26712291, 10167.16501979,  3890.92199565,\n",
       "       15617.85872463, 29573.33802913, 29452.02427532, 28118.40509054,\n",
       "       10015.30321546, 33055.63888237,  3963.91622151, 25447.54101793,\n",
       "        5661.55997897, 27993.48459099,  7049.83736756, 15106.48019776,\n",
       "        2569.47001823, 35456.58856451, 15254.19868735,  3190.8761776 ,\n",
       "        1785.54434704, 10139.73090613,  9948.63660039, 11220.24742389,\n",
       "       16775.5017179 ,  4325.19567694,  1904.54981552,  4172.84106372,\n",
       "        5601.06217858,  6195.52970579, 26784.60441869, 14128.61380525,\n",
       "       11874.02084386,  7810.43798357, 14045.14759283,  2749.88604757,\n",
       "       13235.0604046 , 11774.94320809,  1986.60676537,  1012.66683289,\n",
       "       36785.44552456,  7336.93180087,  9001.46437785,  2192.43140841,\n",
       "       11528.04472338,  7722.32458244, 11765.41036617, 25678.8866381 ,\n",
       "       27093.43159629,  8382.46043027,  7855.65513996,   334.03510588,\n",
       "        4800.88721672,  7641.22521418,  3332.58677068,  8290.27283808,\n",
       "        1727.17809915,  4476.00330061, 33272.28953286,  5959.22930874,\n",
       "       11530.91594174,  9076.55478858, 31443.37553488, 11376.66142946,\n",
       "       11470.27041031,  4744.38393901,  6951.97376959,  5554.39933096,\n",
       "        5099.26559895,  9787.55221494, 31373.98432113,  3194.76838136,\n",
       "       37710.55205106, 10800.33687189,  8936.36688249,  3081.85362043,\n",
       "       11915.84967047, 30617.70061471,  2776.10612343,  5859.31484725,\n",
       "       11268.88827771, 10014.13561038,  6050.39697654, 12972.33364183,\n",
       "       12077.95398031, 28051.04204935, 11373.25364211, 11061.55307378,\n",
       "       14347.64609862, 12317.38155169, 28156.597149  , 11837.87747654,\n",
       "       12834.38965164, 15191.16044797,  4209.63709708, 28301.25758793,\n",
       "        8978.65476195, 28727.78494237, 11175.49771281,  6578.39311346,\n",
       "       13049.1271656 , 14726.05593076,  9773.34894278,  2433.86017719,\n",
       "        5711.5857928 ,  2789.47363089,  5700.12874927, -1003.83975703,\n",
       "       14604.8651052 ,  3996.47709529, 10503.24215136, 13084.26384601,\n",
       "       11393.14504616,  9272.75266326, 13617.23795099,  1049.01487848,\n",
       "       11328.01218317,  9264.36206285,  8265.58651429, 14976.92574696,\n",
       "       12554.90705162, 29823.53193777, 17470.62545408, 10458.99631425,\n",
       "        9392.16701823, 12778.36594535,  5784.60270962, 15684.01879311,\n",
       "        7303.99260364,  5620.94251754, 31412.71294857, 13660.97991413,\n",
       "       12990.05075388, 12128.82768495, 12483.23816594,  5234.8058161 ,\n",
       "        2721.11340661,  3968.36712442,  5842.51257728,   341.38259072,\n",
       "        8314.94592441,  7793.62514875,  5982.88464306, 14785.68371018,\n",
       "        4154.34785716,  7654.30726363,  4990.12694474,   808.24038733,\n",
       "        6358.35413317,  6017.46995576,  2994.2767883 , 30346.75634613,\n",
       "       10241.35115328, 12159.91230445, 36711.27262854,  5497.91085197,\n",
       "       13910.29273673,  1022.99002739,  7075.89758629, 25634.80065813,\n",
       "       10395.92270723,  5739.35018559, 15634.14444395,  8411.76018673,\n",
       "       33612.77113462, 12872.08840098,  9087.83823728, 11494.44179505,\n",
       "       29544.23349744,  4839.83426012,  8522.94485945, 10372.81656823,\n",
       "        2470.75852946, 33642.81481094, 26040.82876361, 12538.61026722,\n",
       "        7288.40598306,  6522.15099121, 33601.82063767, 34296.03792423,\n",
       "       10890.19031494, 28225.65491077, 33056.15382142,  4481.31315941,\n",
       "       33264.38067625,  9140.46254869, 33393.1115388 , 26069.07433942,\n",
       "       13364.13528398, 12332.2817502 ,  5646.97843371, 15410.50139053,\n",
       "       10751.21644665,  4503.91698569, 14656.80405558, 16830.02325577,\n",
       "        2760.01401729,  7501.106932  , 34042.77540007, -1994.78931034,\n",
       "        4964.25088571, 11307.80945731, 14794.89683782,  9422.84906209,\n",
       "        -178.19970426, 37375.98548038,  3762.55728009, 15763.03410261,\n",
       "        4534.10839305,  2097.81841325, 10611.69277191, 11035.30980673,\n",
       "       15657.11285597,  8467.63131698, 38431.32503785, 10141.91626321,\n",
       "       11949.43046864,  4513.52056287, 12410.59902199, 26496.81305904,\n",
       "        9792.88526492,  6004.32086426, 10007.10783982, 25379.64929998,\n",
       "       10350.68124829, 10876.2603747 ,  8967.34651047, 15428.87010758,\n",
       "        3022.05491878, -1520.92804573,   591.44094478, 28608.67817558,\n",
       "        5741.05597125, 13969.45200982,  3305.53204148, 34408.01562214,\n",
       "        3043.33128285,  9060.08440934,  8054.74853555, 13920.41125297,\n",
       "        8603.17420675, -1661.91634888,  7849.9537706 , 12785.39371591,\n",
       "       11052.79632637,  5256.08218016, 27484.44288586, 17223.64678062,\n",
       "       18605.76748065,  2740.15798087,  5278.54777924, 11074.07486282,\n",
       "        6579.74270584,  8289.04823544,  5365.56217859, 13811.42139081,\n",
       "        2032.52569312,  7402.224521  ,  3758.45878648,  1767.57714462,\n",
       "        9356.37873281,  6130.24805074,  1311.2267022 , 11657.94212999,\n",
       "        8735.48862386, 39295.73853918, 13248.62313683, 30811.68994112,\n",
       "       24431.58542654, 13313.20569314,  7863.55293149,  4020.49968797,\n",
       "        6482.59766416,  8096.91298651, 17573.23753909,  5456.77845149,\n",
       "        1706.07265731,  4499.60274873, 11234.80577796,  4871.54835447,\n",
       "        9586.52355265, 10503.89375636, 10084.16625269, 11528.3998053 ,\n",
       "       35005.92736535, 10152.92749137, 10718.97634817, 28555.56322766,\n",
       "        1854.44381293,   876.12943266, 10015.1544234 ,  4461.24026829,\n",
       "        6875.07521386,  3145.08708459,  7421.23266661, 23046.77549547,\n",
       "       11953.54002734,  5692.93005648,  3952.07140104, 17387.81084667,\n",
       "        7410.26893219,  1220.2531478 ,  1144.28215126,  7885.82224477,\n",
       "        8722.28097354,  6912.06536062,  9144.37688262,  8774.54803066,\n",
       "       11132.00686065, 34938.38016447,  5428.14136512,  3487.33303083,\n",
       "       10684.54983159,  6046.45945143,  8027.01789879,  9347.80881771,\n",
       "        9529.59606936, 10282.31045915,  6180.15882856,  9627.8511779 ,\n",
       "       27609.92475719, 22790.84484983, 10608.94498204,  8999.56497902,\n",
       "        -566.71698755, 24644.28637548,  5878.16419674,  2023.76894571,\n",
       "        5694.30395142, 28148.17335334, 16259.3050801 , 38681.18816713,\n",
       "       16143.48267216, 14320.21198496,  3609.02505774, 25481.46366054,\n",
       "       10499.77363281, 13800.77630965, 13472.59696961,  3816.37132676,\n",
       "        9834.68250787, 38408.3418271 , 25695.13860138,  4490.74470301,\n",
       "       14173.5587411 , 31694.43946449,  6522.35834208, 28227.89615405,\n",
       "        6499.38619642, 11748.0704662 ,  8391.32954108, 12131.5865399 ,\n",
       "        3891.4369347 , 12459.08001867, 13407.66989624,  4318.83163749,\n",
       "       12592.61686604, 16816.99976515, 25589.22841982, 13255.64823477,\n",
       "       27856.18114072, 26776.54677003,  8305.64154293, 11923.9205566 ,\n",
       "       36045.8242493 , 11739.35014745,  9612.60590154, 11739.49787849,\n",
       "       10844.43391695,  8259.61292439,  5213.71143934,  1410.63728972,\n",
       "       27504.17443277, 11909.15485166, 13496.21804766, -1152.10694171,\n",
       "        7634.0961453 ,  5076.48973908, 13255.81076453, 10264.31845394,\n",
       "        8205.60365296, 31266.49445502,  9395.99061868,  2914.6004203 ,\n",
       "       11571.19155872, 11365.01183376,  7002.23962932, 14285.63773734,\n",
       "        9873.20484546, 11560.06529455, 12107.95066313,  5594.05871057,\n",
       "        3115.46761385, 40521.56977349, 13228.36558579, 14967.16231263,\n",
       "        9083.5350654 ,  5297.89994168, 10034.87490523,  4839.83426012,\n",
       "        9163.60188294, 13671.41547203,  3408.31772133,  3658.18085061,\n",
       "        9146.28734654,  4607.61861898,  5876.98552658,  9146.4361386 ,\n",
       "        5605.99532552, 26217.33045902,  4352.60548805,  5344.16021365,\n",
       "        5682.60686199,  9240.69566344,  4795.58842301, 14822.34201656,\n",
       "       16592.65761299, 26507.65119258, 35982.36180433,  1959.35948401,\n",
       "       36639.29615468,  3301.19350197, 15736.62147459,  7002.90336043,\n",
       "        6347.56243234, 30231.63303693, 13711.7021541 , 11106.79453272,\n",
       "        8252.58515383,  2525.88791223, 16013.39004078, 30450.06752988,\n",
       "        -433.03134812,  8920.37874729,  9660.0453439 ,  8957.75778234,\n",
       "       14014.32514939,  5379.94849907,  4660.20756277, 12769.48470844,\n",
       "       26240.8138101 , 17111.0174777 , 29291.06170675, 16147.78851665,\n",
       "        8556.39899573, 10890.17924986, 15062.29291946, 11742.24566835,\n",
       "       11474.89440783, 24797.3622176 , 32932.62884673,  9439.12638894,\n",
       "       11248.13791778, 27056.69310116,  3727.11301151,  6242.99077808,\n",
       "        5642.67526184, 11360.21691402, 38471.77996952, 33431.3278998 ,\n",
       "       27018.17076358, 14328.26963362, 35758.90291061, 39819.96963446,\n",
       "        2694.2063581 , 26556.64712832,  5801.56483673, 36686.20803165,\n",
       "        5607.07113611, 11298.70030061,  2509.83117373, 35053.54829479,\n",
       "       15548.9956874 ,  7513.76427563, 12493.71015249,  5147.43633484,\n",
       "       10978.22352731, 29298.79964114,  7930.68699187, 25154.45086456,\n",
       "       11356.81751914,  -475.35298361, 33146.3512813 , 11935.54802213,\n",
       "        6894.41898384, 10950.01331914, 28373.41822148, 10807.22691548,\n",
       "       -1064.33755742,  4115.79015194,  8260.77679583,  3781.72745523,\n",
       "        2779.55033942, 11850.71897986,  8176.63845984, 33313.06685142,\n",
       "       13301.72701967,  3371.81927209,  6006.17544198, 31349.94960235,\n",
       "       10873.88246546,  1623.61313181, 36758.19557059,  9567.67309179,\n",
       "       37130.42552298,  6750.97830255, 14272.7376752 ,  7289.93973514,\n",
       "       28670.74242306,  4181.35509262, 17085.16354883, 11755.40688596,\n",
       "        9014.67202817, 36341.77672833, 13417.39796293, 18342.21445701,\n",
       "       15799.326262  , 38159.86365784, 12038.71091405, 31177.93523851,\n",
       "        9059.75362998,  4080.80226359,  9289.19985131, 12449.00793514,\n",
       "       12073.15906057,  9116.95383405, 15199.21809663,   157.16726349,\n",
       "        6920.6390597 , 11489.32716103,  4314.72369039, 13437.63338381,\n",
       "       32540.17559957, 10717.10964435, 24928.97753597, 26616.44582997,\n",
       "       14294.00297418, 14278.41474201, 14371.80424589,  6773.96151329,\n",
       "       31207.90711855, 15082.46978152, 30142.47602001,  6200.21008974,\n",
       "        1782.30748192, 29746.95576894,  7940.65510445, 32166.40083004,\n",
       "       33411.43382314, 32746.65184763,  3091.97213667,  9153.3151171 ,\n",
       "       10100.13225773,  9821.13084072, 31548.95276469, 29985.49958166,\n",
       "        7645.9188356 , 30872.02788437, 11147.5486601 ,  8170.94921658,\n",
       "        4403.96826793, 30045.99738205, 11483.1340438 , 15726.36740377,\n",
       "       16393.8169804 ,  7202.00782109,  3714.22507547,  5565.21800696,\n",
       "       31558.71458742,  5878.0043396 ,  6343.09779173, 11294.23833261,\n",
       "       14474.10874272,  7205.66049932, 10456.44263779, 15843.7562588 ,\n",
       "       11186.98851239,  3830.5840524 ,  5124.1444749 , 28583.31705559,\n",
       "       35219.60230619, 10409.84052137,  9694.98523829,  7600.16243761,\n",
       "       10533.70734051,  7357.14291919, 17315.31943376, 29779.50451662,\n",
       "       14648.05943428, 12282.57832326,  1344.13053179, 15082.17325843,\n",
       "        2118.18938872,  9059.21438838, 13590.85801799, 14561.52571771,\n",
       "        7351.12183555, 13969.10799299,  6317.08400572, 11419.36512202,\n",
       "        9850.45111575,  4869.62309183,  9453.37498244,  2214.05178931,\n",
       "       14294.31162338,  3275.99223913,  2457.23116486,  7220.36547306,\n",
       "       15689.98399055,  8708.92453117, 11544.12359206, 31442.19575336,\n",
       "        5905.55081667,  1594.80512322, 16095.16420524,  7173.08744909,\n",
       "       12087.72954074, 11545.16670763, 11011.47137374,  8782.46745212,\n",
       "       12067.18547066, 16699.06060343,  7571.67414329, 11541.38792829,\n",
       "       36565.41978174,  5256.58605413,  7494.92705224, 40172.45591383,\n",
       "        9981.02442991,  4842.75141096, 12196.0446067 ,  3869.1528227 ,\n",
       "       39127.78624031, 33354.89785041, 14736.32323905, -1020.49162334,\n",
       "       13587.78940248, 30822.67686672, 29197.8917302 , 11163.17332092,\n",
       "        5416.49176943,  2084.77062007, 14677.19933359,  3390.84065517,\n",
       "        7078.27922916,  2041.98993173, 29487.50229994, 32646.0868925 ,\n",
       "       34791.33541005, 12710.16825082, 19036.23919142,  7763.46754777,\n",
       "       39022.3909978 ,  9234.84656305,  3504.94515135, 12772.06157608,\n",
       "        8205.09977899, 36855.92250262, 11310.38632495,  7971.4775479 ,\n",
       "        4249.59082739,  2891.30962138,  6110.19678955, 12982.65683632,\n",
       "       29167.5283396 , 11393.12074361,  6150.45916907, 27487.71511862,\n",
       "       30489.69048083, 11410.15199438,  2582.1627295 , 12726.26981045,\n",
       "       34520.55099861, 33994.28494991, 29522.3060286 ,  2654.10383573,\n",
       "       12253.11870966,  7701.2191406 ,  2190.36108735,  3713.20626245,\n",
       "        8512.69128886,  9660.92592972,  9419.09725791,  6856.71756189,\n",
       "        3388.62154205,  9754.46422566, 14590.79010654,  9533.59059204,\n",
       "        5516.77237791, 16098.23014813,  8139.99121854, -1925.14698562,\n",
       "       12009.37690132, 13320.74840275, 33293.381237  , 27051.07459317,\n",
       "       11628.42663019,  8352.8072035 , 13623.56662281, 29166.18713968,\n",
       "       17522.51529912,  6263.58967334, 12082.03923646,  9310.64663736,\n",
       "       29415.15861806,  8331.40523856, 31864.09754903, 13458.54360088,\n",
       "        4813.25910234, 17521.8626331 , 28317.34969407,  -185.07868276,\n",
       "         340.70779453,  3276.70240296,  6293.03822185, 27162.60328272,\n",
       "        4339.8895856 , 10202.98600022,  7728.8131114 , 12054.665854  ,\n",
       "       26663.75760997, 15707.66573496, 35384.80731542, 31844.88094117,\n",
       "        6871.93964706, 34020.309801  , 14316.44427071,  7241.42448219,\n",
       "        7510.47991678, 10245.47016547,  9292.2657942 , 12396.72764056,\n",
       "        9134.10957433, 12184.75848538,  7045.59008189,  3819.10537893,\n",
       "       30574.14013864,  3341.64004118,  8574.24059729,  6832.69608057,\n",
       "        3392.06575805, 12679.32367721,   646.82143853,   571.70939787,\n",
       "       12312.03526424, 16424.03157894,  8338.43300912, 10026.64416196,\n",
       "       35687.25938849, 35436.7325281 , 13308.44346841,  6151.31812495,\n",
       "        1992.43423583, 12470.8894715 , 33044.88093757, 13355.89347562,\n",
       "       35447.55959656, 14004.70105363, 10010.85125153, 12552.33285659,\n",
       "        4832.99064925,  5197.10706676,  6977.32382449, 16203.59269562,\n",
       "       12136.72547647,  8956.2107928 , 34229.76281973,  3016.08132888,\n",
       "       24681.99886251, 38419.36412034, 12599.65570168, 10646.47169779,\n",
       "       16758.87037016, 34843.4679736 , 34877.01234311,  8261.44319956,\n",
       "        9941.09389078, 12259.45844656, 34215.20340464, 14889.04132665,\n",
       "        4025.12151311,  6591.60076377,  6752.53635717, 16259.66016201,\n",
       "       35578.65997588,  6538.29059108, 12178.01773409, 36184.45627314,\n",
       "        9273.41533335,  4256.61859795,  9772.63877896,  4655.38945184,\n",
       "        6922.54952362, 12978.8686035 ,  4256.45874081, 12420.33815376,\n",
       "       15773.15367987, 30772.62836193, 11348.93346532, 33621.17280011,\n",
       "       14479.9689082 ,  8521.98460525, 32469.36784215, 30353.95503891,\n",
       "       12028.09069623, 31269.77881387, 10589.10107173,  3267.11100222,\n",
       "       10488.13460197, 11804.98471203, 11008.43812586, 30601.56318721,\n",
       "       10622.46128156,  5544.02233188,  9990.08982652,  2015.91864793,\n",
       "       36668.04560445,  7016.76261575,  3611.23204475,  2706.33663658,\n",
       "        7236.65119238, 29147.48814349, 27046.64532019, 13765.66499281,\n",
       "        1249.87261854, 29594.92304239, -1316.62608968,  3836.44421788,\n",
       "       26057.62836096, 11570.32153776,   186.6716982 ,  6117.73682655,\n",
       "        1080.58018077, 14617.0101824 , 14254.22016608, 10576.70488356,\n",
       "        3683.72613028, 29824.09437056, 32644.23231478,  6812.46065969,\n",
       "       17990.19562296,  9501.55678341, 13095.06772329, 10132.53221335,\n",
       "       10305.10900998,  3059.58324613, 10952.70255019,  9162.19529299,\n",
       "        5781.47820791, 26976.51018658, 10595.9446826 ,  5935.06898908,\n",
       "       32516.86428208, 13116.30871972,  2002.55114047, 15064.84659592,\n",
       "       10477.9823297 ,  7117.70428273,  2065.23429794,  5460.51919058,\n",
       "       26320.33299357,   498.39439671,   -48.31336273, 31877.47612157,\n",
       "         831.54063974, 13530.83978902,  6432.54026666,  9656.95570959,\n",
       "       36848.34659776,   936.97124988, 40468.99295581, 11636.99921791,\n",
       "       14942.80787957, 33746.81452858, 10623.67531935,  4604.99799124,\n",
       "        3281.65717984, 31518.30341585, 14189.10893303,  3883.02420412,\n",
       "        2531.71271008, 13899.47673335, 26792.46795395, 31198.14635684,\n",
       "        7344.98944953,  6115.82636263, 13111.8578168 , 12926.06230478,\n",
       "       12763.08797397, 11624.53442643, 37105.6036446 , 10040.35568625,\n",
       "       12749.04567032,  5010.16714084, 10660.04766749,  5338.53064058,\n",
       "        7593.6496061 , 28001.37131743,  5135.96872645, 13176.83921512,\n",
       "       14534.10266914,   983.24258693, 23247.04756121,  3604.51559601,\n",
       "       11149.27763695,  6091.00448425,  4401.76128092,  2376.16716423])"
      ]
     },
     "execution_count": 30,
     "metadata": {},
     "output_type": "execute_result"
    }
   ],
   "source": [
    "y_pred=lr.predict(X_train)\n",
    "y_pred"
   ]
  },
  {
   "cell_type": "code",
   "execution_count": 49,
   "id": "806729a4",
   "metadata": {},
   "outputs": [
    {
     "data": {
      "image/png": "[encoded data removed]",
      "text/plain": [
       "<Figure size 640x480 with 1 Axes>"
      ]
     },
     "metadata": {},
     "output_type": "display_data"
    }
   ],
   "source": [
    "import matplotlib.pyplot as plt\n",
    "plt.scatter(y_train,y_pred)\n",
    "plt.xlabel(\"Actual Expenses\")\n",
    "plt.ylabel(\"Predicted Expenses\")\n",
    "plt.show()"
   ]
  },
  {
   "cell_type": "code",
   "execution_count": 35,
   "id": "cf3725e6",
   "metadata": {},
   "outputs": [
    {
     "data": {
      "text/plain": [
       "0.791151983192236"
      ]
     },
     "execution_count": 35,
     "metadata": {},
     "output_type": "execute_result"
    }
   ],
   "source": [
    "lr.score(X_test,y_test)"
   ]
  },
  {
   "cell_type": "code",
   "execution_count": null,
   "id": "077a5d67",
   "metadata": {},
   "outputs": [],
   "source": []
  }
 ],
 "metadata": {
  "kernelspec": {
   "display_name": "Python 3 (ipykernel)",
   "language": "python",
   "name": "python3"
  },
  "language_info": {
   "codemirror_mode": {
    "name": "ipython",
    "version": 3
   },
   "file_extension": ".py",
   "mimetype": "text/x-python",
   "name": "python",
   "nbconvert_exporter": "python",
   "pygments_lexer": "ipython3",
   "version": "3.9.13"
  }
 },
 "nbformat": 4,
 "nbformat_minor": 5
}
